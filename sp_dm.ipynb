{
 "cells": [
  {
   "cell_type": "code",
   "execution_count": null,
   "metadata": {
    "collapsed": false
   },
   "outputs": [],
   "source": [
    "def getFollowers(user):\n",
    "    list_of_followers=[]\n",
    "    users = tweepy.Cursor(api.followers, screen_name=user, count=200).items()\n",
    "    while True:\n",
    "        try:\n",
    "            user = next(users)\n",
    "        except tweepy.TweepError:\n",
    "            time.sleep(60*15)\n",
    "            user = next(users)\n",
    "        except StopIteration:\n",
    "            break\n",
    "        #print(\"@\",user.screen_name)\n",
    "    \n",
    "        list_of_followers.append(user.screen_name)\n",
    "        \n",
    "    np.savetxt(\"followers_data2.csv\", list_of_followers, delimiter=\",\",fmt='%s')\n",
    "    return list_of_followers \n",
    "\n",
    "list_of_followers=getFollowers('ArtyomKozulin')"
   ]
  },
  {
   "cell_type": "code",
   "execution_count": null,
   "metadata": {
    "collapsed": false,
    "scrolled": true
   },
   "outputs": [],
   "source": [
    "import tweepy\n",
    "import numpy as np\n",
    "import time\n",
    "\n",
    "auth = tweepy.OAuthHandler('qmouUNz5J81bitj8BoGWNv1fF', 'QITnfiwUoZID00zp3hTNlIxbiqvSGkq7EnAG10YqUv3EE9RiI8')\n",
    "auth.set_access_token('911935636751421440-a1HKsyFngfIHeNKq7BWgPj7dCxUeDBC', 'CZxUTE0DAUZy2cmzL9XI4mpjMfNAk2JRDrx6RFWqgfsrN')\n",
    "api = tweepy.API(auth)\n",
    "\n",
    "user='NUGSB'\n",
    "h=user\n",
    "list_of_followers=[]\n",
    "parent=[]\n",
    "child=[]\n",
    "head=[]\n",
    "users = tweepy.Cursor(api.followers, screen_name=user, count=200).items()\n",
    "\n",
    "while True:\n",
    "    try:\n",
    "        user = next(users)\n",
    "    except tweepy.TweepError:\n",
    "        time.sleep(60*15)\n",
    "        user = next(users)\n",
    "    except StopIteration:\n",
    "        break\n",
    "    #print(\"@\",user.screen_name)\n",
    "    list_of_followers.append(user.screen_name)"
   ]
  },
  {
   "cell_type": "code",
   "execution_count": null,
   "metadata": {
    "collapsed": false,
    "scrolled": false
   },
   "outputs": [],
   "source": [
    "for i in range (len(list_of_followers)):\n",
    "    auth = tweepy.OAuthHandler('qmouUNz5J81bitj8BoGWNv1fF', 'QITnfiwUoZID00zp3hTNlIxbiqvSGkq7EnAG10YqUv3EE9RiI8')\n",
    "    auth.set_access_token('911935636751421440-a1HKsyFngfIHeNKq7BWgPj7dCxUeDBC', 'CZxUTE0DAUZy2cmzL9XI4mpjMfNAk2JRDrx6RFWqgfsrN')\n",
    "    api = tweepy.API(auth)\n",
    "    user=list_of_followers.pop()\n",
    "    par=user\n",
    "\n",
    "    #print('@',user)\n",
    "    print(\"Gathering followers of %s ...\\n\"%user)\n",
    "    \n",
    "    list_of_followers2=[]\n",
    "    users = tweepy.Cursor(api.followers, screen_name=user, count=200).items()\n",
    "    \n",
    "    while True:\n",
    "        try:\n",
    "            user = next(users)\n",
    "        except tweepy.TweepError:\n",
    "            time.sleep(60*15) #pause if rate limit exceeded\\\n",
    "            user = next(users)\n",
    "        except StopIteration:\n",
    "            break\n",
    "            \n",
    "        chi=user.screen_name\n",
    "        head.append(h)\n",
    "        parent.append(par)\n",
    "        child.append(chi)\n",
    "\n",
    "        #print(\"    @\",user.screen_name)\n",
    "        \n",
    "\n",
    "        list_of_followers2.append(user.screen_name)\n",
    "    #print(\"-------------------------------\\n\")    \n",
    "    "
   ]
  },
  {
   "cell_type": "code",
   "execution_count": null,
   "metadata": {
    "collapsed": false
   },
   "outputs": [],
   "source": [
    "data=np.c_[head,parent,child]\n",
    "np.savetxt(\"followers_data_final.csv\", data, delimiter=\",\",fmt='%s')"
   ]
  },
  {
   "cell_type": "code",
   "execution_count": null,
   "metadata": {
    "collapsed": true
   },
   "outputs": [],
   "source": [
    "from graphviz import Digraph\n",
    "dot = Digraph(comment='The Round Table')"
   ]
  },
  {
   "cell_type": "code",
   "execution_count": null,
   "metadata": {
    "collapsed": false,
    "scrolled": false
   },
   "outputs": [],
   "source": [
    "import graphviz as gv\n",
    "g2 = gv.Digraph(strict=True,format='dot')\n",
    "a=data[:,0]\n",
    "b=data[:,1]\n",
    "c=data[:,2]\n",
    "\n",
    "for i in range(1,len(a)):\n",
    "\n",
    "    g2.node(a[i])\n",
    "    g2.node(b[i])\n",
    "    g2.node(c[i])\n",
    "    g2.edge(b[i], a[i])\n",
    "    g2.edge(c[i], b[i])\n",
    "    \n",
    "a=g2.render('img/final_gephi3')"
   ]
  },
  {
   "cell_type": "code",
   "execution_count": null,
   "metadata": {
    "collapsed": false
   },
   "outputs": [],
   "source": [
    "data.shape"
   ]
  },
  {
   "cell_type": "code",
   "execution_count": 30,
   "metadata": {
    "collapsed": false
   },
   "outputs": [],
   "source": [
    "import tweepy\n",
    "import numpy as np\n",
    "import time\n",
    "import pandas as pd"
   ]
  },
  {
   "cell_type": "code",
   "execution_count": 31,
   "metadata": {
    "collapsed": false
   },
   "outputs": [],
   "source": [
    "tt = pd.read_csv('followers_data_final.csv', header=None)\n",
    "a = tt.values[:,0]\n",
    "b = tt.values[:,1]\n",
    "c = tt.values[:,2]"
   ]
  },
  {
   "cell_type": "code",
   "execution_count": 3,
   "metadata": {
    "collapsed": false
   },
   "outputs": [],
   "source": [
    "import graphviz as gv\n",
    "import networkx as nx\n",
    "g2 = nx.Graph()\n",
    "\n",
    "for i in range(1,len(a)):\n",
    "\n",
    "    \n",
    "    g2.add_node(b[i])\n",
    "    g2.add_node(c[i])\n",
    "    g2.add_edge(c[i], b[i])"
   ]
  },
  {
   "cell_type": "code",
   "execution_count": null,
   "metadata": {
    "collapsed": false
   },
   "outputs": [],
   "source": [
    "g3=g2.to_undirected()\n",
    "cc = nx.betweenness_centrality(g3)"
   ]
  },
  {
   "cell_type": "code",
   "execution_count": 14,
   "metadata": {
    "collapsed": true
   },
   "outputs": [],
   "source": [
    "import tweepy\n",
    "import numpy as np\n",
    "import time\n",
    "\n",
    "auth = tweepy.OAuthHandler('qmouUNz5J81bitj8BoGWNv1fF', 'QITnfiwUoZID00zp3hTNlIxbiqvSGkq7EnAG10YqUv3EE9RiI8')\n",
    "auth.set_access_token('911935636751421440-a1HKsyFngfIHeNKq7BWgPj7dCxUeDBC', 'CZxUTE0DAUZy2cmzL9XI4mpjMfNAk2JRDrx6RFWqgfsrN')\n",
    "api = tweepy.API(auth)"
   ]
  },
  {
   "cell_type": "code",
   "execution_count": 2,
   "metadata": {
    "collapsed": true
   },
   "outputs": [],
   "source": [
    "user='iamardak'\n",
    "h=user\n",
    "list_of_followers=[]\n",
    "parent=[]\n",
    "child=[]\n",
    "head=[]\n",
    "users = tweepy.Cursor(api.followers, screen_name=user, count=200).items()\n",
    "\n",
    "while True:\n",
    "    try:\n",
    "        user = next(users)\n",
    "    except tweepy.TweepError:\n",
    "        time.sleep(60*15)\n",
    "        user = next(users)\n",
    "    except StopIteration:\n",
    "        break\n",
    "    #print(\"@\",user.screen_name)\n",
    "    list_of_followers.append(user.screen_name)\n",
    "    temp= list_of_followers\n",
    "    temp2= list_of_followers"
   ]
  },
  {
   "cell_type": "code",
   "execution_count": 7,
   "metadata": {
    "collapsed": true
   },
   "outputs": [],
   "source": [
    "    temp= list_of_followers\n",
    "    temp2= list_of_followers"
   ]
  },
  {
   "cell_type": "code",
   "execution_count": 8,
   "metadata": {
    "collapsed": false
   },
   "outputs": [
    {
     "data": {
      "text/plain": [
       "117"
      ]
     },
     "execution_count": 8,
     "metadata": {},
     "output_type": "execute_result"
    }
   ],
   "source": [
    " len(list_of_followers)"
   ]
  },
  {
   "cell_type": "code",
   "execution_count": 13,
   "metadata": {
    "collapsed": false
   },
   "outputs": [
    {
     "data": {
      "text/plain": [
       "114"
      ]
     },
     "execution_count": 13,
     "metadata": {},
     "output_type": "execute_result"
    }
   ],
   "source": [
    " len(temp2)"
   ]
  },
  {
   "cell_type": "code",
   "execution_count": 28,
   "metadata": {
    "collapsed": true
   },
   "outputs": [],
   "source": [
    "def paginate(iterable, page_size):\n",
    "    while True:\n",
    "        i1, i2 = itertools.tee(iterable)\n",
    "        iterable, page = (itertools.islice(i1, page_size, None),\n",
    "                list(itertools.islice(i2, page_size)))\n",
    "        if len(page) == 0:\n",
    "            break\n",
    "        yield page"
   ]
  }
 ],
 "metadata": {
  "anaconda-cloud": {},
  "kernelspec": {
   "display_name": "Python [default]",
   "language": "python",
   "name": "python3"
  },
  "language_info": {
   "codemirror_mode": {
    "name": "ipython",
    "version": 3
   },
   "file_extension": ".py",
   "mimetype": "text/x-python",
   "name": "python",
   "nbconvert_exporter": "python",
   "pygments_lexer": "ipython3",
   "version": "3.5.2"
  }
 },
 "nbformat": 4,
 "nbformat_minor": 1
}
